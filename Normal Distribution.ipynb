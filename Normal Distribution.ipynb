{
 "cells": [
  {
   "cell_type": "markdown",
   "id": "1594c938",
   "metadata": {},
   "source": [
    "# 1) If mean & std.deviation are given"
   ]
  },
  {
   "cell_type": "code",
   "execution_count": 1,
   "id": "c6c31ce7",
   "metadata": {},
   "outputs": [],
   "source": [
    "import pandas as pd\n",
    "import numpy as np\n",
    "from scipy import stats"
   ]
  },
  {
   "cell_type": "markdown",
   "id": "69ba0432",
   "metadata": {},
   "source": [
    "# mean=711,std.dev=29"
   ]
  },
  {
   "cell_type": "code",
   "execution_count": 2,
   "id": "8676a347",
   "metadata": {},
   "outputs": [
    {
     "name": "stdout",
     "output_type": "stream",
     "text": [
      "14.25 %\n"
     ]
    }
   ],
   "source": [
    "#P(less than 680)\n",
    "a=stats.norm.cdf(680,loc=711,scale=29)\n",
    "print(round(a*100,2),\"%\")"
   ]
  },
  {
   "cell_type": "code",
   "execution_count": 3,
   "id": "54101aa6",
   "metadata": {},
   "outputs": [
    {
     "name": "stdout",
     "output_type": "stream",
     "text": [
      "52.67 %\n"
     ]
    }
   ],
   "source": [
    "#P(between 697 and 740)\n",
    "b=stats.norm.cdf(740,loc=711,scale=29)-stats.norm.cdf(697,loc=711,scale=29)\n",
    "print(round(b*100,2),\"%\")"
   ]
  },
  {
   "cell_type": "markdown",
   "id": "c128713b",
   "metadata": {},
   "source": [
    "# mean=20.05 mm,std.dev=0.02 mm"
   ]
  },
  {
   "cell_type": "code",
   "execution_count": 4,
   "id": "b096cc5a",
   "metadata": {},
   "outputs": [
    {
     "name": "stdout",
     "output_type": "stream",
     "text": [
      "77.45 %\n"
     ]
    }
   ],
   "source": [
    "#P(between 20.03mm and 20.08mm)\n",
    "d=stats.norm.cdf(20.08,loc=20.05,scale=0.02)-stats.norm.cdf(20.03,loc=20.05,scale=0.02)\n",
    "print(round(d*100,2),\"%\")"
   ]
  },
  {
   "cell_type": "code",
   "execution_count": 5,
   "id": "87295c63",
   "metadata": {},
   "outputs": [
    {
     "name": "stdout",
     "output_type": "stream",
     "text": [
      "14.99 %\n"
     ]
    }
   ],
   "source": [
    "#P(between 20.06mm and 20.07mm)\n",
    "e=stats.norm.cdf(20.07,loc=20.05,scale=0.02)-stats.norm.cdf(20.06,loc=20.05,scale=0.02)\n",
    "print(round(e*100,2),\"%\")"
   ]
  },
  {
   "cell_type": "code",
   "execution_count": 6,
   "id": "2ce2ad41",
   "metadata": {},
   "outputs": [
    {
     "name": "stdout",
     "output_type": "stream",
     "text": [
      "2.28 %\n"
     ]
    }
   ],
   "source": [
    "#P(less than 20.01mm)\n",
    "f=stats.norm.cdf(20.01,loc=20.05,scale=0.02)\n",
    "print(round(f*100,2),\"%\")"
   ]
  },
  {
   "cell_type": "code",
   "execution_count": 7,
   "id": "014e41ff",
   "metadata": {},
   "outputs": [
    {
     "name": "stdout",
     "output_type": "stream",
     "text": [
      "0\n"
     ]
    }
   ],
   "source": [
    "#P(less than 20.09mm)\n",
    "g=1-stats.norm.cdf(20.09,loc=20.05,scale=0.02)\n",
    "print(round(g))"
   ]
  },
  {
   "cell_type": "markdown",
   "id": "1e92bb17",
   "metadata": {},
   "source": [
    "# 2)If mean & std.deviation are not given"
   ]
  },
  {
   "cell_type": "code",
   "execution_count": 8,
   "id": "8571de1c",
   "metadata": {},
   "outputs": [],
   "source": [
    "import pandas as pd\n",
    "import numpy as np\n",
    "from scipy import stats"
   ]
  },
  {
   "cell_type": "code",
   "execution_count": 9,
   "id": "c710de7d",
   "metadata": {},
   "outputs": [
    {
     "data": {
      "text/plain": [
       "0.2823"
      ]
     },
     "execution_count": 9,
     "metadata": {},
     "output_type": "execute_result"
    }
   ],
   "source": [
    "#P(between z=0 and z=0.78)\n",
    "stats.norm.sf(abs(0))\n",
    "1-stats.norm.sf(abs(0.78))\n",
    "a=(1-stats.norm.sf(abs(0.78)))-(stats.norm.sf(0))\n",
    "round(a,4)"
   ]
  },
  {
   "cell_type": "code",
   "execution_count": 10,
   "id": "16d8dca6",
   "metadata": {},
   "outputs": [
    {
     "data": {
      "text/plain": [
       "0.2123"
      ]
     },
     "execution_count": 10,
     "metadata": {},
     "output_type": "execute_result"
    }
   ],
   "source": [
    "#P(between z=-0.56 and z=0)\n",
    "stats.norm.sf(abs(0))\n",
    "stats.norm.sf(abs(0.56))\n",
    "a=(stats.norm.sf(abs(0)))-(stats.norm.sf(0.56))\n",
    "round(a,4)"
   ]
  },
  {
   "cell_type": "code",
   "execution_count": 11,
   "id": "e87a1193",
   "metadata": {},
   "outputs": [
    {
     "data": {
      "text/plain": [
       "0.4487"
      ]
     },
     "execution_count": 11,
     "metadata": {},
     "output_type": "execute_result"
    }
   ],
   "source": [
    "#P(between z=-0.43 and z=0.78)\n",
    "stats.norm.sf(abs(0.78))\n",
    "stats.norm.sf(abs(0.43))\n",
    "a=(1-stats.norm.sf(abs(0.78)))-(stats.norm.sf(0.43))\n",
    "round(a,4)"
   ]
  },
  {
   "cell_type": "code",
   "execution_count": 12,
   "id": "168e7e09",
   "metadata": {},
   "outputs": [
    {
     "data": {
      "text/plain": [
       "0.2632"
      ]
     },
     "execution_count": 12,
     "metadata": {},
     "output_type": "execute_result"
    }
   ],
   "source": [
    "#P(between z=0.44 and z=1.50)\n",
    "stats.norm.sf(abs(1.50))\n",
    "stats.norm.sf(abs(0.44))\n",
    "a=(1-stats.norm.sf(abs(1.50)))-(1-stats.norm.sf(0.44))\n",
    "round(a,4)"
   ]
  },
  {
   "cell_type": "code",
   "execution_count": 13,
   "id": "dff9a6ee",
   "metadata": {},
   "outputs": [
    {
     "data": {
      "text/plain": [
       "0.9082"
      ]
     },
     "execution_count": 13,
     "metadata": {},
     "output_type": "execute_result"
    }
   ],
   "source": [
    "#P(greater than z=-1.33)\n",
    "stats.norm.sf(abs(1.33))\n",
    "a=(1-stats.norm.sf(abs(1.33)))\n",
    "round(a,4)"
   ]
  },
  {
   "cell_type": "code",
   "execution_count": null,
   "id": "39cf1302",
   "metadata": {},
   "outputs": [],
   "source": []
  }
 ],
 "metadata": {
  "kernelspec": {
   "display_name": "Python 3 (ipykernel)",
   "language": "python",
   "name": "python3"
  },
  "language_info": {
   "codemirror_mode": {
    "name": "ipython",
    "version": 3
   },
   "file_extension": ".py",
   "mimetype": "text/x-python",
   "name": "python",
   "nbconvert_exporter": "python",
   "pygments_lexer": "ipython3",
   "version": "3.9.7"
  }
 },
 "nbformat": 4,
 "nbformat_minor": 5
}
