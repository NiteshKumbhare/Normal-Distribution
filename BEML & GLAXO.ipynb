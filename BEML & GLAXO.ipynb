{
 "cells": [
  {
   "cell_type": "code",
   "execution_count": 1,
   "id": "12ec6302",
   "metadata": {},
   "outputs": [
    {
     "data": {
      "text/html": [
       "<div>\n",
       "<style scoped>\n",
       "    .dataframe tbody tr th:only-of-type {\n",
       "        vertical-align: middle;\n",
       "    }\n",
       "\n",
       "    .dataframe tbody tr th {\n",
       "        vertical-align: top;\n",
       "    }\n",
       "\n",
       "    .dataframe thead th {\n",
       "        text-align: right;\n",
       "    }\n",
       "</style>\n",
       "<table border=\"1\" class=\"dataframe\">\n",
       "  <thead>\n",
       "    <tr style=\"text-align: right;\">\n",
       "      <th></th>\n",
       "      <th>Date</th>\n",
       "      <th>Open</th>\n",
       "      <th>High</th>\n",
       "      <th>Low</th>\n",
       "      <th>Last</th>\n",
       "      <th>Close</th>\n",
       "      <th>Total Trade Quantity</th>\n",
       "      <th>Turnover (Lacs)</th>\n",
       "    </tr>\n",
       "  </thead>\n",
       "  <tbody>\n",
       "    <tr>\n",
       "      <th>0</th>\n",
       "      <td>2010-01-04</td>\n",
       "      <td>1121.0</td>\n",
       "      <td>1151.00</td>\n",
       "      <td>1121.00</td>\n",
       "      <td>1134.0</td>\n",
       "      <td>1135.60</td>\n",
       "      <td>101651.0</td>\n",
       "      <td>1157.18</td>\n",
       "    </tr>\n",
       "    <tr>\n",
       "      <th>1</th>\n",
       "      <td>2010-01-05</td>\n",
       "      <td>1146.8</td>\n",
       "      <td>1149.00</td>\n",
       "      <td>1128.75</td>\n",
       "      <td>1135.0</td>\n",
       "      <td>1134.60</td>\n",
       "      <td>59504.0</td>\n",
       "      <td>676.47</td>\n",
       "    </tr>\n",
       "    <tr>\n",
       "      <th>2</th>\n",
       "      <td>2010-01-06</td>\n",
       "      <td>1140.0</td>\n",
       "      <td>1164.25</td>\n",
       "      <td>1130.05</td>\n",
       "      <td>1137.0</td>\n",
       "      <td>1139.60</td>\n",
       "      <td>128908.0</td>\n",
       "      <td>1482.84</td>\n",
       "    </tr>\n",
       "    <tr>\n",
       "      <th>3</th>\n",
       "      <td>2010-01-07</td>\n",
       "      <td>1142.0</td>\n",
       "      <td>1159.40</td>\n",
       "      <td>1119.20</td>\n",
       "      <td>1141.0</td>\n",
       "      <td>1144.15</td>\n",
       "      <td>117871.0</td>\n",
       "      <td>1352.98</td>\n",
       "    </tr>\n",
       "    <tr>\n",
       "      <th>4</th>\n",
       "      <td>2010-01-08</td>\n",
       "      <td>1156.0</td>\n",
       "      <td>1172.00</td>\n",
       "      <td>1140.00</td>\n",
       "      <td>1141.2</td>\n",
       "      <td>1144.05</td>\n",
       "      <td>170063.0</td>\n",
       "      <td>1971.42</td>\n",
       "    </tr>\n",
       "  </tbody>\n",
       "</table>\n",
       "</div>"
      ],
      "text/plain": [
       "         Date    Open     High      Low    Last    Close  \\\n",
       "0  2010-01-04  1121.0  1151.00  1121.00  1134.0  1135.60   \n",
       "1  2010-01-05  1146.8  1149.00  1128.75  1135.0  1134.60   \n",
       "2  2010-01-06  1140.0  1164.25  1130.05  1137.0  1139.60   \n",
       "3  2010-01-07  1142.0  1159.40  1119.20  1141.0  1144.15   \n",
       "4  2010-01-08  1156.0  1172.00  1140.00  1141.2  1144.05   \n",
       "\n",
       "   Total Trade Quantity  Turnover (Lacs)  \n",
       "0              101651.0          1157.18  \n",
       "1               59504.0           676.47  \n",
       "2              128908.0          1482.84  \n",
       "3              117871.0          1352.98  \n",
       "4              170063.0          1971.42  "
      ]
     },
     "execution_count": 1,
     "metadata": {},
     "output_type": "execute_result"
    }
   ],
   "source": [
    "import pandas as pd\n",
    "import numpy as np\n",
    "beml_df=pd.read_csv('C:\\\\data science\\\\BEML.CSV')\n",
    "beml_df.head()\n"
   ]
  },
  {
   "cell_type": "code",
   "execution_count": 2,
   "id": "a3ef8d7a",
   "metadata": {},
   "outputs": [
    {
     "data": {
      "text/html": [
       "<div>\n",
       "<style scoped>\n",
       "    .dataframe tbody tr th:only-of-type {\n",
       "        vertical-align: middle;\n",
       "    }\n",
       "\n",
       "    .dataframe tbody tr th {\n",
       "        vertical-align: top;\n",
       "    }\n",
       "\n",
       "    .dataframe thead th {\n",
       "        text-align: right;\n",
       "    }\n",
       "</style>\n",
       "<table border=\"1\" class=\"dataframe\">\n",
       "  <thead>\n",
       "    <tr style=\"text-align: right;\">\n",
       "      <th></th>\n",
       "      <th>Date</th>\n",
       "      <th>Open</th>\n",
       "      <th>High</th>\n",
       "      <th>Low</th>\n",
       "      <th>Last</th>\n",
       "      <th>Close</th>\n",
       "      <th>Total Trade Quantity</th>\n",
       "      <th>Turnover (Lacs)</th>\n",
       "    </tr>\n",
       "  </thead>\n",
       "  <tbody>\n",
       "    <tr>\n",
       "      <th>0</th>\n",
       "      <td>2010-01-04</td>\n",
       "      <td>1613.00</td>\n",
       "      <td>1629.10</td>\n",
       "      <td>1602.00</td>\n",
       "      <td>1629.0</td>\n",
       "      <td>1625.65</td>\n",
       "      <td>9365.0</td>\n",
       "      <td>151.74</td>\n",
       "    </tr>\n",
       "    <tr>\n",
       "      <th>1</th>\n",
       "      <td>2010-01-05</td>\n",
       "      <td>1639.95</td>\n",
       "      <td>1639.95</td>\n",
       "      <td>1611.05</td>\n",
       "      <td>1620.0</td>\n",
       "      <td>1616.80</td>\n",
       "      <td>38148.0</td>\n",
       "      <td>622.58</td>\n",
       "    </tr>\n",
       "    <tr>\n",
       "      <th>2</th>\n",
       "      <td>2010-01-06</td>\n",
       "      <td>1618.00</td>\n",
       "      <td>1644.00</td>\n",
       "      <td>1617.00</td>\n",
       "      <td>1639.0</td>\n",
       "      <td>1638.50</td>\n",
       "      <td>36519.0</td>\n",
       "      <td>595.09</td>\n",
       "    </tr>\n",
       "    <tr>\n",
       "      <th>3</th>\n",
       "      <td>2010-01-07</td>\n",
       "      <td>1645.00</td>\n",
       "      <td>1654.00</td>\n",
       "      <td>1636.00</td>\n",
       "      <td>1648.0</td>\n",
       "      <td>1648.70</td>\n",
       "      <td>12809.0</td>\n",
       "      <td>211.00</td>\n",
       "    </tr>\n",
       "    <tr>\n",
       "      <th>4</th>\n",
       "      <td>2010-01-08</td>\n",
       "      <td>1650.00</td>\n",
       "      <td>1650.00</td>\n",
       "      <td>1626.55</td>\n",
       "      <td>1640.0</td>\n",
       "      <td>1639.80</td>\n",
       "      <td>28035.0</td>\n",
       "      <td>459.11</td>\n",
       "    </tr>\n",
       "  </tbody>\n",
       "</table>\n",
       "</div>"
      ],
      "text/plain": [
       "         Date     Open     High      Low    Last    Close  \\\n",
       "0  2010-01-04  1613.00  1629.10  1602.00  1629.0  1625.65   \n",
       "1  2010-01-05  1639.95  1639.95  1611.05  1620.0  1616.80   \n",
       "2  2010-01-06  1618.00  1644.00  1617.00  1639.0  1638.50   \n",
       "3  2010-01-07  1645.00  1654.00  1636.00  1648.0  1648.70   \n",
       "4  2010-01-08  1650.00  1650.00  1626.55  1640.0  1639.80   \n",
       "\n",
       "   Total Trade Quantity  Turnover (Lacs)  \n",
       "0                9365.0           151.74  \n",
       "1               38148.0           622.58  \n",
       "2               36519.0           595.09  \n",
       "3               12809.0           211.00  \n",
       "4               28035.0           459.11  "
      ]
     },
     "execution_count": 2,
     "metadata": {},
     "output_type": "execute_result"
    }
   ],
   "source": [
    "glaxo_df=pd.read_csv('C:\\\\data science\\\\GLAXO.CSV')\n",
    "glaxo_df.head()"
   ]
  },
  {
   "cell_type": "code",
   "execution_count": 3,
   "id": "a3881d57",
   "metadata": {},
   "outputs": [
    {
     "name": "stdout",
     "output_type": "stream",
     "text": [
      "         Date    Close\n",
      "0  2010-01-04  1135.60\n",
      "1  2010-01-05  1134.60\n",
      "2  2010-01-06  1139.60\n",
      "3  2010-01-07  1144.15\n",
      "4  2010-01-08  1144.05\n"
     ]
    }
   ],
   "source": [
    "beml_df=beml_df[['Date','Close']]\n",
    "print(beml_df.head())"
   ]
  },
  {
   "cell_type": "code",
   "execution_count": 4,
   "id": "4d01e8a7",
   "metadata": {},
   "outputs": [
    {
     "name": "stdout",
     "output_type": "stream",
     "text": [
      "         Date    Close\n",
      "0  2010-01-04  1625.65\n",
      "1  2010-01-05  1616.80\n",
      "2  2010-01-06  1638.50\n",
      "3  2010-01-07  1648.70\n",
      "4  2010-01-08  1639.80\n"
     ]
    }
   ],
   "source": [
    "glaxo_df=glaxo_df[['Date','Close']]\n",
    "print(glaxo_df.head())"
   ]
  },
  {
   "cell_type": "code",
   "execution_count": 5,
   "id": "d45c6691",
   "metadata": {},
   "outputs": [
    {
     "name": "stdout",
     "output_type": "stream",
     "text": [
      "                  Date    Close\n",
      "Date                           \n",
      "2010-01-04  2010-01-04  1625.65\n",
      "2010-01-05  2010-01-05  1616.80\n",
      "2010-01-06  2010-01-06  1638.50\n",
      "2010-01-07  2010-01-07  1648.70\n",
      "2010-01-08  2010-01-08  1639.80\n"
     ]
    }
   ],
   "source": [
    "glaxo_df=glaxo_df.set_index(pd.DatetimeIndex(glaxo_df['Date']))\n",
    "print(glaxo_df.head())"
   ]
  },
  {
   "cell_type": "code",
   "execution_count": 6,
   "id": "4f3967c5",
   "metadata": {},
   "outputs": [
    {
     "name": "stdout",
     "output_type": "stream",
     "text": [
      "                  Date    Close\n",
      "Date                           \n",
      "2010-01-04  2010-01-04  1135.60\n",
      "2010-01-05  2010-01-05  1134.60\n",
      "2010-01-06  2010-01-06  1139.60\n",
      "2010-01-07  2010-01-07  1144.15\n",
      "2010-01-08  2010-01-08  1144.05\n"
     ]
    }
   ],
   "source": [
    "beml_df=beml_df.set_index(pd.DatetimeIndex(beml_df['Date']))\n",
    "print(beml_df.head())"
   ]
  },
  {
   "cell_type": "code",
   "execution_count": 7,
   "id": "1dd7c548",
   "metadata": {},
   "outputs": [
    {
     "data": {
      "text/plain": [
       "Text(0.5, 1.0, 'Time vs Close')"
      ]
     },
     "execution_count": 7,
     "metadata": {},
     "output_type": "execute_result"
    },
    {
     "data": {
      "image/png": "[encoded data removed]",
      "text/plain": [
       "<Figure size 432x288 with 1 Axes>"
      ]
     },
     "metadata": {
      "needs_background": "light"
     },
     "output_type": "display_data"
    }
   ],
   "source": [
    "import matplotlib.pyplot as plt\n",
    "import seaborn as sn\n",
    "%matplotlib inline\n",
    "plt.plot(glaxo_df.Close)\n",
    "plt.xlabel('Time',size=18)\n",
    "plt.ylabel('Close',size=18)\n",
    "plt.title('Time vs Close',size=25)"
   ]
  },
  {
   "cell_type": "code",
   "execution_count": 8,
   "id": "e1b92544",
   "metadata": {},
   "outputs": [
    {
     "data": {
      "text/plain": [
       "Text(0.5, 1.05, 'Turnover vs Total Trade Quantity')"
      ]
     },
     "execution_count": 8,
     "metadata": {},
     "output_type": "execute_result"
    },
    {
     "data": {
      "image/png": "[encoded data removed]",
      "text/plain": [
       "<Figure size 432x288 with 1 Axes>"
      ]
     },
     "metadata": {
      "needs_background": "light"
     },
     "output_type": "display_data"
    }
   ],
   "source": [
    "plt.plot(beml_df.Close)\n",
    "plt.xlabel('Turnover',size=18)\n",
    "plt.ylabel('Total Trade Quantity',size=18)\n",
    "plt.title('Turnover vs Total Trade Quantity',size=25,y=1.05)"
   ]
  },
  {
   "cell_type": "code",
   "execution_count": 9,
   "id": "bc8b58e1",
   "metadata": {},
   "outputs": [
    {
     "name": "stdout",
     "output_type": "stream",
     "text": [
      "                  Date    Close      gain\n",
      "Date                                     \n",
      "2010-01-04  2010-01-04  1625.65       NaN\n",
      "2010-01-05  2010-01-05  1616.80 -0.005444\n",
      "2010-01-06  2010-01-06  1638.50  0.013422\n",
      "2010-01-07  2010-01-07  1648.70  0.006225\n",
      "2010-01-08  2010-01-08  1639.80 -0.005398\n"
     ]
    }
   ],
   "source": [
    "glaxo_df['gain']=glaxo_df.Close.pct_change(periods=1)\n",
    "print(glaxo_df.head())"
   ]
  },
  {
   "cell_type": "code",
   "execution_count": 10,
   "id": "f9e870b4",
   "metadata": {},
   "outputs": [
    {
     "name": "stdout",
     "output_type": "stream",
     "text": [
      "                  Date    Close      gain\n",
      "Date                                     \n",
      "2010-01-04  2010-01-04  1135.60       NaN\n",
      "2010-01-05  2010-01-05  1134.60 -0.000881\n",
      "2010-01-06  2010-01-06  1139.60  0.004407\n",
      "2010-01-07  2010-01-07  1144.15  0.003993\n",
      "2010-01-08  2010-01-08  1144.05 -0.000087\n"
     ]
    }
   ],
   "source": [
    "beml_df['gain']=beml_df.Close.pct_change(periods=1)\n",
    "print(beml_df.head())"
   ]
  },
  {
   "cell_type": "code",
   "execution_count": 11,
   "id": "bf4a93f1",
   "metadata": {},
   "outputs": [],
   "source": [
    "beml_df.drop('Date',axis=1,inplace=True)\n",
    "glaxo_df.drop('Date',axis=1,inplace=True)\n"
   ]
  },
  {
   "cell_type": "code",
   "execution_count": 12,
   "id": "5ebcf4fb",
   "metadata": {},
   "outputs": [
    {
     "name": "stdout",
     "output_type": "stream",
     "text": [
      "              Close      gain\n",
      "Date                         \n",
      "2010-01-04  1135.60       NaN\n",
      "2010-01-05  1134.60 -0.000881\n",
      "2010-01-06  1139.60  0.004407\n",
      "2010-01-07  1144.15  0.003993\n",
      "2010-01-08  1144.05 -0.000087\n",
      "              Close      gain\n",
      "Date                         \n",
      "2010-01-04  1625.65       NaN\n",
      "2010-01-05  1616.80 -0.005444\n",
      "2010-01-06  1638.50  0.013422\n",
      "2010-01-07  1648.70  0.006225\n",
      "2010-01-08  1639.80 -0.005398\n"
     ]
    }
   ],
   "source": [
    "print(beml_df.head())\n",
    "print(glaxo_df.head())"
   ]
  },
  {
   "cell_type": "code",
   "execution_count": 13,
   "id": "05edd336",
   "metadata": {},
   "outputs": [
    {
     "data": {
      "text/plain": [
       "Text(0, 0.5, 'gain')"
      ]
     },
     "execution_count": 13,
     "metadata": {},
     "output_type": "execute_result"
    },
    {
     "data": {
      "image/png": "[encoded data removed]",
      "text/plain": [
       "<Figure size 576x432 with 1 Axes>"
      ]
     },
     "metadata": {
      "needs_background": "light"
     },
     "output_type": "display_data"
    }
   ],
   "source": [
    "plt.figure(figsize=(8,6));\n",
    "plt.plot(glaxo_df.index,glaxo_df.gain);\n",
    "plt.xlabel('Time')\n",
    "plt.ylabel('gain')"
   ]
  },
  {
   "cell_type": "code",
   "execution_count": 14,
   "id": "9dee0c0c",
   "metadata": {},
   "outputs": [
    {
     "data": {
      "text/plain": [
       "Text(0, 0.5, 'gain')"
      ]
     },
     "execution_count": 14,
     "metadata": {},
     "output_type": "execute_result"
    },
    {
     "data": {
      "image/png": "[encoded data removed]",
      "text/plain": [
       "<Figure size 576x432 with 1 Axes>"
      ]
     },
     "metadata": {
      "needs_background": "light"
     },
     "output_type": "display_data"
    }
   ],
   "source": [
    "plt.figure(figsize=(8,6));\n",
    "plt.plot(beml_df.index,beml_df.gain);\n",
    "plt.xlabel('Time')\n",
    "plt.ylabel('gain')"
   ]
  },
  {
   "cell_type": "code",
   "execution_count": 15,
   "id": "7ea4924c",
   "metadata": {},
   "outputs": [
    {
     "name": "stderr",
     "output_type": "stream",
     "text": [
      "C:\\ProgramData\\Anaconda3\\lib\\site-packages\\seaborn\\distributions.py:2619: FutureWarning: `distplot` is a deprecated function and will be removed in a future version. Please adapt your code to use either `displot` (a figure-level function with similar flexibility) or `histplot` (an axes-level function for histograms).\n",
      "  warnings.warn(msg, FutureWarning)\n"
     ]
    },
    {
     "data": {
      "text/plain": [
       "<matplotlib.legend.Legend at 0x18117ecea30>"
      ]
     },
     "execution_count": 15,
     "metadata": {},
     "output_type": "execute_result"
    },
    {
     "data": {
      "image/png": "[encoded data removed]",
      "text/plain": [
       "<Figure size 432x288 with 1 Axes>"
      ]
     },
     "metadata": {
      "needs_background": "light"
     },
     "output_type": "display_data"
    }
   ],
   "source": [
    "import seaborn as sn\n",
    "sn.distplot(glaxo_df.gain,label='glaxo')\n",
    "plt.xlabel('gain')\n",
    "plt.ylabel('density')\n",
    "plt.legend()"
   ]
  },
  {
   "cell_type": "code",
   "execution_count": 16,
   "id": "7dbc5060",
   "metadata": {},
   "outputs": [
    {
     "name": "stderr",
     "output_type": "stream",
     "text": [
      "C:\\ProgramData\\Anaconda3\\lib\\site-packages\\seaborn\\distributions.py:2619: FutureWarning: `distplot` is a deprecated function and will be removed in a future version. Please adapt your code to use either `displot` (a figure-level function with similar flexibility) or `histplot` (an axes-level function for histograms).\n",
      "  warnings.warn(msg, FutureWarning)\n"
     ]
    },
    {
     "data": {
      "text/plain": [
       "<matplotlib.legend.Legend at 0x18118061d90>"
      ]
     },
     "execution_count": 16,
     "metadata": {},
     "output_type": "execute_result"
    },
    {
     "data": {
      "image/png": "[encoded data removed]",
      "text/plain": [
       "<Figure size 432x288 with 1 Axes>"
      ]
     },
     "metadata": {
      "needs_background": "light"
     },
     "output_type": "display_data"
    }
   ],
   "source": [
    "sn.distplot(beml_df.gain,label='beml')\n",
    "plt.xlabel('gain')\n",
    "plt.ylabel('density')\n",
    "plt.legend()"
   ]
  },
  {
   "cell_type": "code",
   "execution_count": 17,
   "id": "bd5b3413",
   "metadata": {},
   "outputs": [
    {
     "name": "stdout",
     "output_type": "stream",
     "text": [
      "mean: 0.0004\n",
      "standard deviation: 0.0134\n"
     ]
    }
   ],
   "source": [
    "print('mean:',round(glaxo_df.gain.mean(),4))\n",
    "print('standard deviation:',round(glaxo_df.gain.std(),4))\n"
   ]
  },
  {
   "cell_type": "code",
   "execution_count": 18,
   "id": "1e9836f6",
   "metadata": {},
   "outputs": [
    {
     "name": "stdout",
     "output_type": "stream",
     "text": [
      "mean: 0.0003\n",
      "standard deviation: 0.0264\n"
     ]
    }
   ],
   "source": [
    "print('mean:',round(beml_df.gain.mean(),4))\n",
    "print('standard deviation:',round(beml_df.gain.std(),4))\n"
   ]
  },
  {
   "cell_type": "code",
   "execution_count": 19,
   "id": "74c07fd0",
   "metadata": {},
   "outputs": [
    {
     "name": "stdout",
     "output_type": "stream",
     "text": [
      "mean_glaxo: 0.0004\n",
      "standard deviation_glaxo: 0.0134\n"
     ]
    }
   ],
   "source": [
    "print('mean_glaxo:',round(glaxo_df['gain'].mean(),4))\n",
    "print('standard deviation_glaxo:',round(glaxo_df['gain'].std(),4))\n"
   ]
  },
  {
   "cell_type": "code",
   "execution_count": 20,
   "id": "857a37aa",
   "metadata": {},
   "outputs": [
    {
     "name": "stdout",
     "output_type": "stream",
     "text": [
      "mean: 0.0003\n",
      "standard deviation: 0.0264\n"
     ]
    }
   ],
   "source": [
    "print('mean:',round(beml_df['gain'].mean(),4))\n",
    "print('standard deviation:',round(beml_df['gain'].std(),4))"
   ]
  },
  {
   "cell_type": "code",
   "execution_count": 21,
   "id": "fdfe7cc6",
   "metadata": {},
   "outputs": [
    {
     "name": "stdout",
     "output_type": "stream",
     "text": [
      "6.35 %\n"
     ]
    }
   ],
   "source": [
    "from scipy import stats\n",
    "print((round((stats.norm.cdf(-0.02,loc=glaxo_df['gain'].mean(),scale=glaxo_df['gain'].std())),4))*100,'%')"
   ]
  },
  {
   "cell_type": "code",
   "execution_count": 22,
   "id": "9bb1fff0",
   "metadata": {},
   "outputs": [
    {
     "name": "stdout",
     "output_type": "stream",
     "text": [
      "93.65 %\n"
     ]
    }
   ],
   "source": [
    "print((round(1-(stats.norm.cdf(-0.02,loc=glaxo_df['gain'].mean(),scale=glaxo_df['gain'].std())),4))*100,'%')"
   ]
  },
  {
   "cell_type": "code",
   "execution_count": 23,
   "id": "dcfa4acf",
   "metadata": {},
   "outputs": [
    {
     "name": "stdout",
     "output_type": "stream",
     "text": [
      "7.1 %\n"
     ]
    }
   ],
   "source": [
    "print((round(1-(stats.norm.cdf(0.02,loc=glaxo_df['gain'].mean(),scale=glaxo_df['gain'].std())),4))*100,'%')"
   ]
  },
  {
   "cell_type": "code",
   "execution_count": 24,
   "id": "84e465c9",
   "metadata": {},
   "outputs": [
    {
     "name": "stdout",
     "output_type": "stream",
     "text": [
      "22.16 %\n"
     ]
    }
   ],
   "source": [
    "print((round((stats.norm.cdf(-0.02,loc=beml_df['gain'].mean(),scale=beml_df['gain'].std())),4))*100,'%')"
   ]
  },
  {
   "cell_type": "code",
   "execution_count": 25,
   "id": "9325aced",
   "metadata": {},
   "outputs": [
    {
     "name": "stdout",
     "output_type": "stream",
     "text": [
      "77.84 %\n"
     ]
    }
   ],
   "source": [
    "print((round(1-(stats.norm.cdf(-0.02,loc=beml_df['gain'].mean(),scale=beml_df['gain'].std())),4))*100,'%')"
   ]
  },
  {
   "cell_type": "code",
   "execution_count": 26,
   "id": "f241ab82",
   "metadata": {},
   "outputs": [
    {
     "name": "stdout",
     "output_type": "stream",
     "text": [
      "22.770000000000003 %\n"
     ]
    }
   ],
   "source": [
    "print((round(1-(stats.norm.cdf(0.02,loc=beml_df['gain'].mean(),scale=beml_df['gain'].std())),4))*100,'%')"
   ]
  },
  {
   "cell_type": "code",
   "execution_count": 27,
   "id": "1e9bf1d4",
   "metadata": {},
   "outputs": [
    {
     "name": "stdout",
     "output_type": "stream",
     "text": [
      "0.0003860410825922916\n",
      "gain at 99% confidence interval is : [-0.034   0.0348]\n"
     ]
    }
   ],
   "source": [
    "glaxo_df_ci=stats.norm.interval(0.99,loc=glaxo_df['gain'].mean(),scale=glaxo_df['gain'].std())\n",
    "print(glaxo_df.gain.mean())\n",
    "print('gain at 99% confidence interval is :',np.round(glaxo_df_ci,4))"
   ]
  },
  {
   "cell_type": "code",
   "execution_count": 28,
   "id": "41104fd6",
   "metadata": {},
   "outputs": [
    {
     "name": "stdout",
     "output_type": "stream",
     "text": [
      "0.00027074807905723154\n",
      "gain at 99% confidence interval is : [-0.0678  0.0684]\n"
     ]
    }
   ],
   "source": [
    "beml_df_ci=stats.norm.interval(0.99,loc=beml_df['gain'].mean(),scale=beml_df['gain'].std())\n",
    "print(beml_df.gain.mean())\n",
    "print('gain at 99% confidence interval is :',np.round(beml_df_ci,4))"
   ]
  },
  {
   "cell_type": "code",
   "execution_count": null,
   "id": "11f654ba",
   "metadata": {},
   "outputs": [],
   "source": []
  },
  {
   "cell_type": "code",
   "execution_count": null,
   "id": "84390fef",
   "metadata": {},
   "outputs": [],
   "source": []
  }
 ],
 "metadata": {
  "kernelspec": {
   "display_name": "Python 3 (ipykernel)",
   "language": "python",
   "name": "python3"
  },
  "language_info": {
   "codemirror_mode": {
    "name": "ipython",
    "version": 3
   },
   "file_extension": ".py",
   "mimetype": "text/x-python",
   "name": "python",
   "nbconvert_exporter": "python",
   "pygments_lexer": "ipython3",
   "version": "3.9.7"
  }
 },
 "nbformat": 4,
 "nbformat_minor": 5
}
